{
 "cells": [
  {
   "cell_type": "code",
   "execution_count": 2,
   "metadata": {},
   "outputs": [],
   "source": [
    "import pandas as pd\n",
    "import numpy as np\n",
    "import matplotlib.pyplot as plt\n",
    "import tensorflow as tf\n",
    "from tensorflow.keras import layers\n",
    "import os\n",
    "from PIL import Image \n",
    "import PIL \n",
    "from IPython.display import clear_output\n",
    "  \n",
    "from tensorflow import keras\n",
    "from tensorflow.keras.models import Sequential"
   ]
  },
  {
   "cell_type": "code",
   "execution_count": 3,
   "metadata": {},
   "outputs": [],
   "source": [
    "from tensorflow.keras.layers import Input\n",
    "from tensorflow.keras.layers import Conv2D\n",
    "from tensorflow.keras.layers import MaxPooling2D\n",
    "from tensorflow.keras.layers import Dropout \n",
    "from tensorflow.keras.layers import BatchNormalization\n",
    "from tensorflow.keras.layers import Conv2DTranspose\n",
    "from tensorflow.keras.layers import concatenate\n",
    "from tensorflow.keras.losses import binary_crossentropy"
   ]
  },
  {
   "cell_type": "code",
   "execution_count": 62,
   "metadata": {},
   "outputs": [],
   "source": [
    "def normalize(input_image, input_mask):\n",
    "    input_image = tf.cast(input_image, tf.float32) / 255.0\n",
    "    input_mask = tf.where(tf.equal(input_mask, 100), tf.ones_like(input_mask), input_mask)\n",
    "    \n",
    "    input_mask = tf.where(tf.equal(input_mask, 255), tf.ones_like(input_mask)*2, input_mask)\n",
    "    #np.place(input_mask, input_mask==100, 1)\n",
    "    #np.place(input_mask, input_mask==255, 2)\n",
    "    return input_image, input_mask"
   ]
  },
  {
   "cell_type": "code",
   "execution_count": 4,
   "metadata": {},
   "outputs": [
    {
     "data": {
      "text/html": [
       "<div>\n",
       "<style scoped>\n",
       "    .dataframe tbody tr th:only-of-type {\n",
       "        vertical-align: middle;\n",
       "    }\n",
       "\n",
       "    .dataframe tbody tr th {\n",
       "        vertical-align: top;\n",
       "    }\n",
       "\n",
       "    .dataframe thead th {\n",
       "        text-align: right;\n",
       "    }\n",
       "</style>\n",
       "<table border=\"1\" class=\"dataframe\">\n",
       "  <thead>\n",
       "    <tr style=\"text-align: right;\">\n",
       "      <th></th>\n",
       "      <th>base</th>\n",
       "      <th>pred</th>\n",
       "      <th>p_pred</th>\n",
       "      <th>diff</th>\n",
       "      <th>timestamp</th>\n",
       "    </tr>\n",
       "  </thead>\n",
       "  <tbody>\n",
       "    <tr>\n",
       "      <th>0</th>\n",
       "      <td>13</td>\n",
       "      <td>0.537301</td>\n",
       "      <td>53.730100</td>\n",
       "      <td>40.730100</td>\n",
       "      <td>0101_0101075000</td>\n",
       "    </tr>\n",
       "    <tr>\n",
       "      <th>1</th>\n",
       "      <td>25</td>\n",
       "      <td>0.635413</td>\n",
       "      <td>63.541281</td>\n",
       "      <td>38.541281</td>\n",
       "      <td>0101_0101080000</td>\n",
       "    </tr>\n",
       "    <tr>\n",
       "      <th>2</th>\n",
       "      <td>37</td>\n",
       "      <td>0.573862</td>\n",
       "      <td>57.386153</td>\n",
       "      <td>20.386153</td>\n",
       "      <td>0101_0101081000</td>\n",
       "    </tr>\n",
       "    <tr>\n",
       "      <th>3</th>\n",
       "      <td>15</td>\n",
       "      <td>0.225565</td>\n",
       "      <td>22.556461</td>\n",
       "      <td>7.556461</td>\n",
       "      <td>0101_0101082000</td>\n",
       "    </tr>\n",
       "    <tr>\n",
       "      <th>4</th>\n",
       "      <td>18</td>\n",
       "      <td>0.244261</td>\n",
       "      <td>24.426138</td>\n",
       "      <td>6.426138</td>\n",
       "      <td>0101_0101083000</td>\n",
       "    </tr>\n",
       "  </tbody>\n",
       "</table>\n",
       "</div>"
      ],
      "text/plain": [
       "   base      pred     p_pred       diff        timestamp\n",
       "0    13  0.537301  53.730100  40.730100  0101_0101075000\n",
       "1    25  0.635413  63.541281  38.541281  0101_0101080000\n",
       "2    37  0.573862  57.386153  20.386153  0101_0101081000\n",
       "3    15  0.225565  22.556461   7.556461  0101_0101082000\n",
       "4    18  0.244261  24.426138   6.426138  0101_0101083000"
      ]
     },
     "execution_count": 4,
     "metadata": {},
     "output_type": "execute_result"
    }
   ],
   "source": [
    "df_pred = pd.read_csv('cc_pred.csv')\n",
    "df_pred.head()"
   ]
  },
  {
   "cell_type": "code",
   "execution_count": 5,
   "metadata": {},
   "outputs": [],
   "source": [
    "l = list(df_pred[df_pred['diff']<=20].index)\n"
   ]
  },
  {
   "cell_type": "code",
   "execution_count": 25,
   "metadata": {},
   "outputs": [
    {
     "data": {
      "text/plain": [
       "15690"
      ]
     },
     "execution_count": 25,
     "metadata": {},
     "output_type": "execute_result"
    }
   ],
   "source": [
    "len(l)"
   ]
  },
  {
   "cell_type": "code",
   "execution_count": 6,
   "metadata": {},
   "outputs": [
    {
     "data": {
      "text/plain": [
       "9941"
      ]
     },
     "execution_count": 6,
     "metadata": {},
     "output_type": "execute_result"
    }
   ],
   "source": [
    "sets_count = 0\n",
    "train_sets = []\n",
    "for i in range(1,max(l)+1):\n",
    "    if(set(list(range(i,i+8))).issubset(l)):\n",
    "        #print(list(range(i,i+8)))\n",
    "        train_sets.append(list(range(i,i+8)))\n",
    "        sets_count +=1\n",
    "sets_count"
   ]
  },
  {
   "cell_type": "code",
   "execution_count": 29,
   "metadata": {},
   "outputs": [],
   "source": [
    "to_consider = list(np.unique(train_sets))\n",
    "filenames = []\n",
    "for index in to_consider:\n",
    "    filenames.append(df_pred['timestamp'][index])\n",
    "    "
   ]
  },
  {
   "cell_type": "code",
   "execution_count": 34,
   "metadata": {},
   "outputs": [
    {
     "data": {
      "text/plain": [
       "(1536, 1536, 3)"
      ]
     },
     "execution_count": 34,
     "metadata": {},
     "output_type": "execute_result"
    }
   ],
   "source": [
    "folder,file = filenames[0].split('_')\n",
    "im = plt.imread(\"dataset/train/\"+folder+'/'+file+'.jpg')\n",
    "im.shape"
   ]
  },
  {
   "cell_type": "code",
   "execution_count": 35,
   "metadata": {},
   "outputs": [],
   "source": [
    "def create_circular_mask(h, w, center=None, radius=None):\n",
    "    center = (int(w/2), int(h/2))\n",
    "    #if radius is None: # use the smallest distance between the center and image walls\n",
    "    radius = int(165 * w/180 * 0.5)#min(center[0], center[1], w-center[0], h-center[1])\n",
    "    Y, X = np.ogrid[:h, :w]\n",
    "    dist_from_center = np.sqrt((X - center[0])**2 + (Y-center[1])**2)\n",
    "\n",
    "    mask = dist_from_center <= radius\n",
    "    return mask\n",
    "h,w,_ = im.shape\n",
    "mask = create_circular_mask(h,w)\n",
    "\n",
    "IMG_SIZE = 128\n",
    "\n",
    "resize_and_rescale = tf.keras.Sequential([\n",
    "  layers.Resizing(IMG_SIZE, IMG_SIZE),\n",
    "  layers.Rescaling(1./255)\n",
    "])"
   ]
  },
  {
   "cell_type": "code",
   "execution_count": 46,
   "metadata": {},
   "outputs": [],
   "source": [
    "mask_ = np.expand_dims(np.array(mask,float),-1)\n",
    "mask_s = tf.image.resize(mask_, (128, 128),method='nearest')\n",
    "def create_mask(pred_mask):\n",
    "    pred_mask = tf.argmax(pred_mask, axis=-1)\n",
    "    pred_mask = pred_mask[..., tf.newaxis]\n",
    "    return pred_mask[0]\n",
    "\n",
    "def predict_cc(x):\n",
    "    x_ = np.expand_dims(x,0)\n",
    "    p = new_model.predict(x_)\n",
    "    p = create_mask(p)\n",
    "    (unique, counts) = np.unique(p, return_counts=True)\n",
    "    frequencies = np.asarray((unique, counts)).T\n",
    "    cc = frequencies[-1,1] / np.sum(mask_s)\n",
    "    return cc,p"
   ]
  },
  {
   "cell_type": "code",
   "execution_count": 6,
   "metadata": {},
   "outputs": [],
   "source": [
    "new_model = tf.keras.models.load_model('saved_model/cloud_seg')"
   ]
  },
  {
   "cell_type": "code",
   "execution_count": null,
   "metadata": {},
   "outputs": [],
   "source": [
    "# decide valid images (not -1, not large negative)\n",
    "# Apply segmentation to each image and save\n"
   ]
  },
  {
   "cell_type": "code",
   "execution_count": 83,
   "metadata": {},
   "outputs": [],
   "source": [
    "for fn in filenames:\n",
    "    folder,file = fn.split('_')\n",
    "    im = plt.imread(\"dataset/train/\"+folder+'/'+file+'.jpg')\n",
    "    im2 = im.copy()\n",
    "    #print(im2.shape)\n",
    "    \n",
    "    im2[~mask] = 0\n",
    "    im2 = resize_and_rescale(im2)\n",
    "    #print(im2.shape)\n",
    "    #im2 = np.expand_dims(im2,0)\n",
    "    _,p = predict_cc(im2)\n",
    "    p_ = tf.where(tf.equal(p, 1), tf.ones_like(p)*0, p)\n",
    "    p_ = tf.where(tf.equal(p_, 2), tf.ones_like(p_), p_)\n",
    "    #print(p.shape)\n",
    "    #plt.imshow(p_[:,:,0])\n",
    "    \n",
    "    im = Image.fromarray((np.array(p_[:,:,0]) * 255).astype(np.uint8))\n",
    "    im.save('dataset/forecast/'+fn+\".png\")\n",
    "    #break"
   ]
  },
  {
   "cell_type": "code",
   "execution_count": 7,
   "metadata": {},
   "outputs": [
    {
     "name": "stdout",
     "output_type": "stream",
     "text": [
      "(9941, 4, 128, 128, 1) (9941, 4, 128, 128, 1)\n"
     ]
    }
   ],
   "source": [
    "# CREATE X and Y\n",
    "X = []\n",
    "Y = []\n",
    "for tset in train_sets:\n",
    "    #print(tset)\n",
    "    tempx = []\n",
    "    tempy = []\n",
    "    for i,sample in enumerate(tset):\n",
    "        fn = df_pred['timestamp'][sample]\n",
    "        im = plt.imread(\"dataset/forecast/\"+fn+\".png\")\n",
    "        im = np.array(im,int)\n",
    "        im = np.expand_dims(im,-1)\n",
    "        #print(i,sample,fn,im.shape)\n",
    "        if(i<4):\n",
    "            tempx.append(im)\n",
    "        else:\n",
    "            tempy.append(im)\n",
    "        \n",
    "        \n",
    "    tempx = np.array(tempx)\n",
    "    tempy = np.array(tempy)\n",
    "    X.append(tempx)\n",
    "    Y.append(tempy)\n",
    "    \n",
    "X = np.array(X)\n",
    "Y = np.array(Y)\n",
    "        \n",
    "print(X.shape, Y.shape)"
   ]
  },
  {
   "cell_type": "code",
   "execution_count": 28,
   "metadata": {},
   "outputs": [],
   "source": [
    "dataset_ = tf.data.Dataset.from_tensor_slices((X, Y))"
   ]
  },
  {
   "cell_type": "code",
   "execution_count": 29,
   "metadata": {},
   "outputs": [],
   "source": [
    "DATASET_SIZE = X.shape[0]\n",
    "train_size = int(0.1 * DATASET_SIZE)\n",
    "val_size = int(0.01 * DATASET_SIZE)\n",
    "\n",
    "\n",
    "\n",
    "full_dataset = dataset_.shuffle(DATASET_SIZE )\n",
    "train_dataset = full_dataset.take(train_size)\n",
    "temp_dataset = full_dataset.skip(train_size)\n",
    "val_dataset = temp_dataset.take(val_size)\n",
    "#val_dataset = temp_dataset.take(val_size)\n",
    "\n",
    "batch_size=5   #TRY 128\n",
    "\n",
    "train_dataset = train_dataset.batch(batch_size)\n",
    "val_dataset = val_dataset.batch(batch_size)\n",
    "\n",
    "AUTOTUNE = tf.data.AUTOTUNE\n",
    "\n",
    "train_dataset = train_dataset.cache().shuffle(1000).prefetch(buffer_size=AUTOTUNE)\n",
    "val_dataset = val_dataset.cache().prefetch(buffer_size=AUTOTUNE)"
   ]
  },
  {
   "cell_type": "code",
   "execution_count": 10,
   "metadata": {},
   "outputs": [],
   "source": [
    "# Construct the input layer with no definite frame size.\n",
    "inp = layers.Input(shape=(None, *X.shape[2:]))\n",
    "\n",
    "# We will construct 3 `ConvLSTM2D` layers with batch normalization,\n",
    "# followed by a `Conv3D` layer for the spatiotemporal outputs.\n",
    "x = layers.ConvLSTM2D(\n",
    "    filters=64,\n",
    "    kernel_size=(5, 5),\n",
    "    padding=\"same\",\n",
    "    return_sequences=True,\n",
    "    activation=\"relu\",\n",
    ")(inp)\n",
    "x = layers.BatchNormalization()(x)\n",
    "x = layers.ConvLSTM2D(\n",
    "    filters=64,\n",
    "    kernel_size=(3, 3),\n",
    "    padding=\"same\",\n",
    "    return_sequences=True,\n",
    "    activation=\"relu\",\n",
    ")(x)\n",
    "x = layers.BatchNormalization()(x)\n",
    "x = layers.ConvLSTM2D(\n",
    "    filters=64,\n",
    "    kernel_size=(1, 1),\n",
    "    padding=\"same\",\n",
    "    return_sequences=True,\n",
    "    activation=\"relu\",\n",
    ")(x)\n",
    "x = layers.Conv3D(\n",
    "    filters=1, kernel_size=(3, 3, 3), activation=\"sigmoid\", padding=\"same\"\n",
    ")(x)\n",
    "\n",
    "# Next, we will build the complete model and compile it.\n",
    "model = keras.models.Model(inp, x)\n",
    "model.compile(\n",
    "    loss=keras.losses.binary_crossentropy, optimizer=keras.optimizers.Adam(),\n",
    ")"
   ]
  },
  {
   "cell_type": "code",
   "execution_count": 30,
   "metadata": {},
   "outputs": [
    {
     "name": "stdout",
     "output_type": "stream",
     "text": [
      "199/199 [==============================] - 3739s 19s/step - loss: 0.3563 - val_loss: 0.5657\n"
     ]
    }
   ],
   "source": [
    "# Define some callbacks to improve training.\n",
    "early_stopping = keras.callbacks.EarlyStopping(monitor=\"val_loss\", patience=10)\n",
    "reduce_lr = keras.callbacks.ReduceLROnPlateau(monitor=\"val_loss\", patience=5)\n",
    "\n",
    "# Define modifiable training hyperparameters.\n",
    "epochs = 1#2\n",
    "\n",
    "\n",
    "# Fit the model to the training data.\n",
    "history = model.fit(\n",
    "    train_dataset,\n",
    "    epochs=epochs,\n",
    "    validation_data= val_dataset,\n",
    "    callbacks=[early_stopping, reduce_lr],\n",
    ")"
   ]
  },
  {
   "cell_type": "code",
   "execution_count": 53,
   "metadata": {},
   "outputs": [
    {
     "data": {
      "text/plain": [
       "{'loss': [0.311581552028656], 'val_loss': [0.300332635641098], 'lr': [0.001]}"
      ]
     },
     "execution_count": 53,
     "metadata": {},
     "output_type": "execute_result"
    }
   ],
   "source": [
    "history.history #5"
   ]
  },
  {
   "cell_type": "code",
   "execution_count": 50,
   "metadata": {},
   "outputs": [
    {
     "name": "stdout",
     "output_type": "stream",
     "text": [
      "199/199 [==============================] - 4118s 21s/step - loss: 0.3116 - val_loss: 0.3003\n"
     ]
    }
   ],
   "source": [
    "history = model.fit(\n",
    "    train_dataset,\n",
    "    epochs=epochs,\n",
    "    validation_data= val_dataset,\n",
    "    callbacks=[early_stopping, reduce_lr],\n",
    ")"
   ]
  },
  {
   "cell_type": "code",
   "execution_count": 51,
   "metadata": {},
   "outputs": [
    {
     "data": {
      "image/png": "[encoded data removed]",
      "text/plain": [
       "<Figure size 1440x288 with 12 Axes>"
      ]
     },
     "metadata": {
      "needs_background": "light"
     },
     "output_type": "display_data"
    }
   ],
   "source": [
    "# Select a random example from the validation dataset.\n",
    "for images, forcasts in val_dataset.take(1):\n",
    "#    print(images.shape, forcasts.shape)\n",
    "#    print(images[0].shape, forcasts[0].shape)\n",
    "    break\n",
    "\n",
    "# Pick the first/last ten frames from the example.\n",
    "frames = images[0]#example[:4, ...]\n",
    "original_frames = images[0]#example[4:, ...]\n",
    "\n",
    "# Predict a new set of 10 frames.\n",
    "for _ in range(4):\n",
    "    # Extract the model's prediction and post-process it.\n",
    "    new_prediction = model.predict(np.expand_dims(frames, axis=0))\n",
    "    new_prediction = np.squeeze(new_prediction, axis=0)\n",
    "    predicted_frame = np.expand_dims(new_prediction[-1, ...], axis=0)\n",
    "\n",
    "    # Extend the set of prediction frames.\n",
    "    frames = np.concatenate((frames, predicted_frame), axis=0)\n",
    "\n",
    "# Construct a figure for the original and new frames.\n",
    "fig, axes = plt.subplots(3, 4, figsize=(20, 4))\n",
    "\n",
    "\n",
    "\n",
    "# Plot the original frames.\n",
    "for idx, ax in enumerate(axes[0]):\n",
    "    ax.imshow(np.squeeze(original_frames[idx]), cmap=\"gray\")\n",
    "    ax.set_title(f\"Input {idx + -3}\")\n",
    "    ax.axis(\"off\")\n",
    "    \n",
    "\n",
    "for idx, ax in enumerate(axes[1]):\n",
    "    ax.imshow(np.squeeze(forcasts[0][idx]), cmap=\"gray\")\n",
    "    ax.set_title(f\"Real {idx + 1}\")\n",
    "    ax.axis(\"off\")\n",
    "\n",
    "# Plot the new frames.\n",
    "new_frames = frames[4:, ...]\n",
    "for idx, ax in enumerate(axes[2]):\n",
    "    ax.imshow(np.squeeze(new_frames[idx]), cmap=\"gray\")\n",
    "    ax.set_title(f\"Pred {idx + 1}\")\n",
    "    ax.axis(\"off\")\n",
    "\n",
    "# Display the figure.\n",
    "plt.show()"
   ]
  },
  {
   "cell_type": "code",
   "execution_count": 52,
   "metadata": {},
   "outputs": [
    {
     "name": "stderr",
     "output_type": "stream",
     "text": [
      "A subdirectory or file -p already exists.\n",
      "Error occurred while processing: -p.\n",
      "A subdirectory or file saved_model_pred already exists.\n",
      "Error occurred while processing: saved_model_pred.\n"
     ]
    },
    {
     "name": "stdout",
     "output_type": "stream",
     "text": [
      "INFO:tensorflow:Assets written to: saved_model_pred/cloud_pred\\assets\n"
     ]
    }
   ],
   "source": [
    "!mkdir -p saved_model_pred\n",
    "model.save('saved_model_pred/cloud_pred')"
   ]
  },
  {
   "cell_type": "markdown",
   "metadata": {},
   "source": [
    "#### Reference\n",
    "1. https://keras.io/examples/vision/conv_lstm/"
   ]
  },
  {
   "cell_type": "code",
   "execution_count": null,
   "metadata": {},
   "outputs": [],
   "source": []
  }
 ],
 "metadata": {
  "kernelspec": {
   "display_name": "Python 3",
   "language": "python",
   "name": "python3"
  },
  "language_info": {
   "codemirror_mode": {
    "name": "ipython",
    "version": 3
   },
   "file_extension": ".py",
   "mimetype": "text/x-python",
   "name": "python",
   "nbconvert_exporter": "python",
   "pygments_lexer": "ipython3",
   "version": "3.7.4"
  }
 },
 "nbformat": 4,
 "nbformat_minor": 4
}
